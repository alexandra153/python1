{
  "nbformat": 4,
  "nbformat_minor": 0,
  "metadata": {
    "colab": {
      "provenance": []
    },
    "kernelspec": {
      "name": "python3",
      "display_name": "Python 3"
    },
    "language_info": {
      "name": "python"
    }
  },
  "cells": [
    {
      "cell_type": "markdown",
      "source": [
        "**Buenos días** estoy aprendiendo Python, hace frio"
      ],
      "metadata": {
        "id": "JTnKlY_llgBO"
      }
    },
    {
      "cell_type": "code",
      "source": [
        "#Esto es muy divertido\n",
        "print(\"Hola Mundo\")\n"
      ],
      "metadata": {
        "colab": {
          "base_uri": "https://localhost:8080/"
        },
        "id": "_OLsaYdCkUB9",
        "outputId": "1b4a9c58-dd4c-4417-beda-e5b7a5238fc1"
      },
      "execution_count": null,
      "outputs": [
        {
          "output_type": "stream",
          "name": "stdout",
          "text": [
            "Hola Mundo\n"
          ]
        }
      ]
    },
    {
      "cell_type": "code",
      "source": [
        "#Esta soy yo\n",
        "print(\"Mi nombre es Alexandra, tengo 28 años trabajo en Galias y vivo en Soacha\")"
      ],
      "metadata": {
        "colab": {
          "base_uri": "https://localhost:8080/"
        },
        "id": "5mJ19Dg_ml4l",
        "outputId": "1c965588-865a-4fc6-869b-79560ee26993"
      },
      "execution_count": null,
      "outputs": [
        {
          "output_type": "stream",
          "name": "stdout",
          "text": [
            "Mi nombre es Alexandra, tengo 28 años trabajo en Galias y vivo en Soacha\n"
          ]
        }
      ]
    },
    {
      "cell_type": "code",
      "source": [
        "\"probando sin el print\""
      ],
      "metadata": {
        "colab": {
          "base_uri": "https://localhost:8080/",
          "height": 35
        },
        "id": "APv0uufQnPuk",
        "outputId": "e8b16adb-cbef-4133-9776-50d432d9b9c0"
      },
      "execution_count": null,
      "outputs": [
        {
          "output_type": "execute_result",
          "data": {
            "text/plain": [
              "'probando sin el print'"
            ],
            "application/vnd.google.colaboratory.intrinsic+json": {
              "type": "string"
            }
          },
          "metadata": {},
          "execution_count": 24
        }
      ]
    },
    {
      "cell_type": "markdown",
      "source": [
        "# **TIPOS DE DATOS**"
      ],
      "metadata": {
        "id": "H56IMze6n0Ad"
      }
    },
    {
      "cell_type": "code",
      "source": [
        "#TIPO DE DATO ENTERO, EN INGLES ES INTEGER Y LA ABREVIATURA ES INT\n",
        "type(24)\n"
      ],
      "metadata": {
        "colab": {
          "base_uri": "https://localhost:8080/"
        },
        "id": "PdK1pA13nah7",
        "outputId": "dd820bbe-16d6-43fc-bb67-5a19883f2d51"
      },
      "execution_count": null,
      "outputs": [
        {
          "output_type": "execute_result",
          "data": {
            "text/plain": [
              "int"
            ]
          },
          "metadata": {},
          "execution_count": 25
        }
      ]
    },
    {
      "cell_type": "code",
      "source": [
        "#TIPO DE DATO FLOTANTE O DECIMAL SU ABREVUATURA ES FLOAT\n",
        "type(3.0)\n"
      ],
      "metadata": {
        "colab": {
          "base_uri": "https://localhost:8080/"
        },
        "id": "T_oye7ytovV4",
        "outputId": "8ea1035c-3cbc-49d8-8a50-43f871928cc0"
      },
      "execution_count": null,
      "outputs": [
        {
          "output_type": "execute_result",
          "data": {
            "text/plain": [
              "float"
            ]
          },
          "metadata": {},
          "execution_count": 26
        }
      ]
    },
    {
      "cell_type": "code",
      "source": [
        "#BOLEANO VERDADERO O FALSO ABREVIATURA BOOL\n",
        "type(True)"
      ],
      "metadata": {
        "colab": {
          "base_uri": "https://localhost:8080/"
        },
        "id": "xHcC_uHDpArO",
        "outputId": "a919682e-ad6f-4040-cc6a-c1b3c5650100"
      },
      "execution_count": null,
      "outputs": [
        {
          "output_type": "execute_result",
          "data": {
            "text/plain": [
              "bool"
            ]
          },
          "metadata": {},
          "execution_count": 27
        }
      ]
    },
    {
      "cell_type": "code",
      "source": [
        "#tIPOLS DE DATOS CADENA SGTRING SIEMPRE CON COMILLAS SU ABREVIATURA STR\n",
        "type(\"Alexandra Escobar\")"
      ],
      "metadata": {
        "colab": {
          "base_uri": "https://localhost:8080/"
        },
        "id": "ACps3_6yp16A",
        "outputId": "55c0d531-8705-4f1e-b378-6643d68cf9c2"
      },
      "execution_count": null,
      "outputs": [
        {
          "output_type": "execute_result",
          "data": {
            "text/plain": [
              "str"
            ]
          },
          "metadata": {},
          "execution_count": 28
        }
      ]
    },
    {
      "cell_type": "markdown",
      "source": [
        "# **METODOS DE LAS CADENAS**\n",
        "\n",
        "\n",
        "TIENEN FUNCIONES QUE ME AYUDAN A FORMATEARLAS"
      ],
      "metadata": {
        "id": "-NQ0UmS2qZ4o"
      }
    },
    {
      "cell_type": "code",
      "source": [
        "print(\"Hola estamos en clase de python\".upper()) #este metodo me sirve para agregar mayusculas\n",
        "print(\"Con Python puedo pEdir aumenTo\".lower()) #este metodo me sirve para poner minusculas\n",
        "print(\"Orgullo y prejuicio\".title()) # este metodo me sirve para dejar el dato como titulo"
      ],
      "metadata": {
        "colab": {
          "base_uri": "https://localhost:8080/"
        },
        "id": "QuVTXdnJqLcI",
        "outputId": "130c956f-3a02-470c-8aff-c924f73c7caf"
      },
      "execution_count": null,
      "outputs": [
        {
          "output_type": "stream",
          "name": "stdout",
          "text": [
            "HOLA ESTAMOS EN CLASE DE PYTHON\n",
            "con python puedo pedir aumento\n",
            "Orgullo Y Prejuicio\n"
          ]
        }
      ]
    },
    {
      "cell_type": "code",
      "source": [
        "#usaremos el metodo count --> Cuenta las letras de una cadena de texto\n",
        "print(\"El párrafo generalmente lo definimos como un conjunto de oraciones escritas que comparten un tema y un contexto comunicativo, por lo que las escribimos en un orden, es decir, en secuencia. El párrafo también es considerado una de las unidades en que se puede dividir un texto escrito\".count(\"a\"))"
      ],
      "metadata": {
        "colab": {
          "base_uri": "https://localhost:8080/"
        },
        "id": "G2r2xGQMqsT4",
        "outputId": "7ecde017-7156-4526-9050-e035b5639827"
      },
      "execution_count": null,
      "outputs": [
        {
          "output_type": "stream",
          "name": "stdout",
          "text": [
            "15\n"
          ]
        }
      ]
    },
    {
      "cell_type": "code",
      "source": [
        "print(\"\"\"mi edad es 28 años,\n",
        "mi genero es femenino\"\"\") # las 3 comillas sirven para hacer los saltos de linea"
      ],
      "metadata": {
        "colab": {
          "base_uri": "https://localhost:8080/"
        },
        "id": "4Vq7Rl0zrzPp",
        "outputId": "55cde004-4d76-4809-ed27-c6ed6b9a1338"
      },
      "execution_count": null,
      "outputs": [
        {
          "output_type": "stream",
          "name": "stdout",
          "text": [
            "mi edad es 28 años,\n",
            "mi genero es femenino\n"
          ]
        }
      ]
    },
    {
      "cell_type": "code",
      "source": [
        "#reemplazar un valor de una cadena de texto utiliando replace\n",
        "print(\"Esta cadena se reemplaza\".replace(\"e\",\"x\"))\n"
      ],
      "metadata": {
        "colab": {
          "base_uri": "https://localhost:8080/"
        },
        "id": "suO_2m_8s46W",
        "outputId": "9515eb15-71b4-459c-db32-cb2ec3a2bed1"
      },
      "execution_count": null,
      "outputs": [
        {
          "output_type": "stream",
          "name": "stdout",
          "text": [
            "Esta cadxna sx rxxmplaza\n"
          ]
        }
      ]
    },
    {
      "cell_type": "code",
      "source": [
        "#reemplazar un valor de una cadena de texto utiliando replace\n",
        "print(\"Esta cadena se reemplaza\".replace(\"m\",\"3\"))"
      ],
      "metadata": {
        "colab": {
          "base_uri": "https://localhost:8080/"
        },
        "id": "S0DoZiS7tUnQ",
        "outputId": "18ee2b41-1a0f-49e0-97b7-36eecb36eef4"
      },
      "execution_count": null,
      "outputs": [
        {
          "output_type": "stream",
          "name": "stdout",
          "text": [
            "Esta cadena se ree3plaza\n"
          ]
        }
      ]
    },
    {
      "cell_type": "markdown",
      "source": [
        "## **VARIABLES**\n",
        "Son espacios en memoria que nos ayudan a guardar informacipon en particular deben tener un nombre que nos ayudena a identificar su contenido"
      ],
      "metadata": {
        "id": "v1Yq2dJruE46"
      }
    },
    {
      "cell_type": "code",
      "source": [
        "#para declarar una variable se usa nombre de la variable, signo =, el valor:\n",
        "#edad = 13\n",
        "nombre=\"Alexandra\"\n",
        "apellido=\"Escobar Lozano\"\n",
        "edad=28\n",
        "estado_civil=\"Casada\"\n",
        "\n",
        "print(nombre, apellido, edad, estado_civil)\n"
      ],
      "metadata": {
        "colab": {
          "base_uri": "https://localhost:8080/"
        },
        "id": "fMbncurfuDSf",
        "outputId": "c70f5735-ca5e-4e1d-db4b-4a1c638d7191"
      },
      "execution_count": null,
      "outputs": [
        {
          "output_type": "stream",
          "name": "stdout",
          "text": [
            "Alexandra Escobar Lozano 28 Casada\n"
          ]
        }
      ]
    },
    {
      "cell_type": "code",
      "source": [
        "#Nombre de hijo que no tengo\n",
        "hijo_nombre=\"Tomas\"\n",
        "hijo_apellido=\"escobar\"\n",
        "hijo_nombre"
      ],
      "metadata": {
        "colab": {
          "base_uri": "https://localhost:8080/",
          "height": 35
        },
        "id": "XWufA9xfvAOO",
        "outputId": "17378db4-ad39-41c9-9078-cb310c0fde44"
      },
      "execution_count": null,
      "outputs": [
        {
          "output_type": "execute_result",
          "data": {
            "text/plain": [
              "'Tomas'"
            ],
            "application/vnd.google.colaboratory.intrinsic+json": {
              "type": "string"
            }
          },
          "metadata": {},
          "execution_count": 35
        }
      ]
    },
    {
      "cell_type": "code",
      "source": [
        "hijo_apellido"
      ],
      "metadata": {
        "colab": {
          "base_uri": "https://localhost:8080/",
          "height": 35
        },
        "id": "4M7RFY3Fvmd3",
        "outputId": "34152ffe-8bd8-422f-9bbe-cf0be0036f88"
      },
      "execution_count": null,
      "outputs": [
        {
          "output_type": "execute_result",
          "data": {
            "text/plain": [
              "'escobar'"
            ],
            "application/vnd.google.colaboratory.intrinsic+json": {
              "type": "string"
            }
          },
          "metadata": {},
          "execution_count": 36
        }
      ]
    },
    {
      "cell_type": "code",
      "source": [
        "#Esta es una variable con un mensaje\n",
        "mensaje_1=\"Ahora que sé python Alexandra no me va a ganar\""
      ],
      "metadata": {
        "id": "rMuLk92BvvvL"
      },
      "execution_count": null,
      "outputs": []
    },
    {
      "cell_type": "code",
      "source": [
        "mensaje_1"
      ],
      "metadata": {
        "colab": {
          "base_uri": "https://localhost:8080/",
          "height": 35
        },
        "id": "M9bj5hIK1d5G",
        "outputId": "13fa2f18-cab0-4c06-9763-63becf1be044"
      },
      "execution_count": null,
      "outputs": [
        {
          "output_type": "execute_result",
          "data": {
            "text/plain": [
              "'Ahora que sé python Alexandra no me va a ganar'"
            ],
            "application/vnd.google.colaboratory.intrinsic+json": {
              "type": "string"
            }
          },
          "metadata": {},
          "execution_count": 38
        }
      ]
    },
    {
      "cell_type": "code",
      "source": [
        "#Acá no solo guarde la variable sino que muestro el valor de una vez\n",
        "mensaje_2=\"Porque yo voy con toda\"\n",
        "mensaje_2"
      ],
      "metadata": {
        "colab": {
          "base_uri": "https://localhost:8080/",
          "height": 35
        },
        "id": "NtY4bTDb1g4_",
        "outputId": "3621bc6d-7c5f-4f86-b1f7-85680a5a5eca"
      },
      "execution_count": null,
      "outputs": [
        {
          "output_type": "execute_result",
          "data": {
            "text/plain": [
              "'Porque yo voy con toda'"
            ],
            "application/vnd.google.colaboratory.intrinsic+json": {
              "type": "string"
            }
          },
          "metadata": {},
          "execution_count": 39
        }
      ]
    },
    {
      "cell_type": "code",
      "source": [
        "#Asi se concatena\n",
        "mensaje_1 +\" \"+ mensaje_2"
      ],
      "metadata": {
        "colab": {
          "base_uri": "https://localhost:8080/",
          "height": 35
        },
        "id": "UZrdYfUg1oeG",
        "outputId": "72accc14-0181-414d-8919-b0861747799b"
      },
      "execution_count": null,
      "outputs": [
        {
          "output_type": "execute_result",
          "data": {
            "text/plain": [
              "'Ahora que sé python Alexandra no me va a ganar Porque yo voy con toda'"
            ],
            "application/vnd.google.colaboratory.intrinsic+json": {
              "type": "string"
            }
          },
          "metadata": {},
          "execution_count": 40
        }
      ]
    },
    {
      "cell_type": "code",
      "source": [
        "#Asi se declara una variable con un espacio en blanco\n",
        "espacio=\" \""
      ],
      "metadata": {
        "id": "5GA4pYEY2Qpi"
      },
      "execution_count": null,
      "outputs": []
    },
    {
      "cell_type": "code",
      "source": [
        "mensaje_1 + espacio + mensaje_2"
      ],
      "metadata": {
        "colab": {
          "base_uri": "https://localhost:8080/",
          "height": 35
        },
        "id": "gFmij4s52jK2",
        "outputId": "407053bf-9c7b-480c-a813-2becc33e2c5a"
      },
      "execution_count": null,
      "outputs": [
        {
          "output_type": "execute_result",
          "data": {
            "text/plain": [
              "'Ahora que sé python Alexandra no me va a ganar Porque yo voy con toda'"
            ],
            "application/vnd.google.colaboratory.intrinsic+json": {
              "type": "string"
            }
          },
          "metadata": {},
          "execution_count": 42
        }
      ]
    },
    {
      "cell_type": "code",
      "source": [
        "#Asi se guarda la concatenación dentro de una variable\n",
        "mensaje_completo=mensaje_1+espacio+mensaje_2\n",
        "print(mensaje_completo)"
      ],
      "metadata": {
        "colab": {
          "base_uri": "https://localhost:8080/"
        },
        "id": "XejY5tJZ2oF_",
        "outputId": "93d04fb5-a324-4fc0-9811-8a9566c1e5ce"
      },
      "execution_count": null,
      "outputs": [
        {
          "output_type": "stream",
          "name": "stdout",
          "text": [
            "Ahora que sé python Alexandra no me va a ganar Porque yo voy con toda\n"
          ]
        }
      ]
    },
    {
      "cell_type": "markdown",
      "source": [
        "# **LISTAS**\n",
        "\n",
        "Son tipos de datos mutables y ordenados son las mas usadas al trabajar con datos, para declarar una lista uso los []"
      ],
      "metadata": {
        "id": "JesSMUdA39I8"
      }
    },
    {
      "cell_type": "code",
      "source": [
        "#Las listas: se definen como el siguiente ejemplo:\n",
        "#datos=[\"Maria\", \"Alexandra\", \"Escobar\", \"Lozano\", 28, \"Casada\", 1.63]\n",
        "Paises=[\"Colombia\", \"Perú\", \"Brasil\", \"Mexico\", \"China\", \"Francia\", \"Paraguay\"]\n",
        "Paises"
      ],
      "metadata": {
        "colab": {
          "base_uri": "https://localhost:8080/"
        },
        "id": "IG5Fx-7c3BbW",
        "outputId": "3f1695a2-f21b-4e7b-ad30-a11c3b592a08"
      },
      "execution_count": null,
      "outputs": [
        {
          "output_type": "execute_result",
          "data": {
            "text/plain": [
              "['Colombia', 'Perú', 'Brasil', 'Mexico', 'China', 'Francia', 'Paraguay']"
            ]
          },
          "metadata": {},
          "execution_count": 44
        }
      ]
    },
    {
      "cell_type": "code",
      "source": [
        "#Las listas tienen indices automaticos que se generan cuando creo la lista sin embargo no son visibles hasta que las llamo\n",
        "Paises[1]"
      ],
      "metadata": {
        "colab": {
          "base_uri": "https://localhost:8080/",
          "height": 35
        },
        "id": "IyivsXs_4-kb",
        "outputId": "b87d2ceb-480b-4e7f-d067-ccc73c5b4f36"
      },
      "execution_count": null,
      "outputs": [
        {
          "output_type": "execute_result",
          "data": {
            "text/plain": [
              "'Perú'"
            ],
            "application/vnd.google.colaboratory.intrinsic+json": {
              "type": "string"
            }
          },
          "metadata": {},
          "execution_count": 45
        }
      ]
    },
    {
      "cell_type": "code",
      "source": [
        "#Llamar desde la derecha\n",
        "Paises[-2]\n"
      ],
      "metadata": {
        "colab": {
          "base_uri": "https://localhost:8080/",
          "height": 35
        },
        "id": "nDkOCFSy5LFa",
        "outputId": "0ec6c57a-6c6f-46a0-f60b-e61515675752"
      },
      "execution_count": null,
      "outputs": [
        {
          "output_type": "execute_result",
          "data": {
            "text/plain": [
              "'Francia'"
            ],
            "application/vnd.google.colaboratory.intrinsic+json": {
              "type": "string"
            }
          },
          "metadata": {},
          "execution_count": 46
        }
      ]
    },
    {
      "cell_type": "code",
      "source": [
        "#Llamar desde la izquierda\n",
        "Paises[5]\n"
      ],
      "metadata": {
        "colab": {
          "base_uri": "https://localhost:8080/",
          "height": 35
        },
        "id": "A91Nkt956Hxw",
        "outputId": "4f09e9ae-39eb-4b62-f122-ebc4c6e3234a"
      },
      "execution_count": null,
      "outputs": [
        {
          "output_type": "execute_result",
          "data": {
            "text/plain": [
              "'Francia'"
            ],
            "application/vnd.google.colaboratory.intrinsic+json": {
              "type": "string"
            }
          },
          "metadata": {},
          "execution_count": 47
        }
      ]
    },
    {
      "cell_type": "code",
      "source": [
        "#la tecnica del slicing me permite cortar pedazos de lista de una variable\n",
        "Paises[1:3]"
      ],
      "metadata": {
        "colab": {
          "base_uri": "https://localhost:8080/"
        },
        "id": "FtscnG9d6PHz",
        "outputId": "d813f76b-7c0d-418c-c5f9-5d3dab6983b3"
      },
      "execution_count": null,
      "outputs": [
        {
          "output_type": "execute_result",
          "data": {
            "text/plain": [
              "['Perú', 'Brasil']"
            ]
          },
          "metadata": {},
          "execution_count": 48
        }
      ]
    },
    {
      "cell_type": "code",
      "source": [
        "#Se almacena la cadena cortada en una nueva variable\n",
        "corte_paises=Paises[1:3]\n",
        "print(corte_paises)"
      ],
      "metadata": {
        "colab": {
          "base_uri": "https://localhost:8080/"
        },
        "id": "5-OMN_BF61RF",
        "outputId": "edc5337c-5ddf-4be9-cb5b-f9781c361be9"
      },
      "execution_count": null,
      "outputs": [
        {
          "output_type": "stream",
          "name": "stdout",
          "text": [
            "['Perú', 'Brasil']\n"
          ]
        }
      ]
    },
    {
      "cell_type": "code",
      "source": [
        "Paises"
      ],
      "metadata": {
        "colab": {
          "base_uri": "https://localhost:8080/"
        },
        "id": "bV-SLRHe7C5g",
        "outputId": "37c02c39-1094-4b3a-b744-65dec1257eee"
      },
      "execution_count": null,
      "outputs": [
        {
          "output_type": "execute_result",
          "data": {
            "text/plain": [
              "['Colombia', 'Perú', 'Brasil', 'Mexico', 'China', 'Francia', 'Paraguay']"
            ]
          },
          "metadata": {},
          "execution_count": 50
        }
      ]
    },
    {
      "cell_type": "code",
      "source": [
        "Paises[1:]"
      ],
      "metadata": {
        "colab": {
          "base_uri": "https://localhost:8080/"
        },
        "id": "DwbqgZdW7Kg9",
        "outputId": "65e7fcd3-26f9-47bb-c31b-71b4a570bf0f"
      },
      "execution_count": null,
      "outputs": [
        {
          "output_type": "execute_result",
          "data": {
            "text/plain": [
              "['Perú', 'Brasil', 'Mexico', 'China', 'Francia', 'Paraguay']"
            ]
          },
          "metadata": {},
          "execution_count": 51
        }
      ]
    },
    {
      "cell_type": "code",
      "source": [
        "Paises[:4]\n"
      ],
      "metadata": {
        "colab": {
          "base_uri": "https://localhost:8080/"
        },
        "id": "nCuz5DJP7TIT",
        "outputId": "46430715-84f4-448e-e914-61fea04cc182"
      },
      "execution_count": null,
      "outputs": [
        {
          "output_type": "execute_result",
          "data": {
            "text/plain": [
              "['Colombia', 'Perú', 'Brasil', 'Mexico']"
            ]
          },
          "metadata": {},
          "execution_count": 52
        }
      ]
    },
    {
      "cell_type": "code",
      "source": [
        "#asi agrego un nuevo registro a la lista\n",
        "Paises.append(\"Rusia\")\n",
        "Paises"
      ],
      "metadata": {
        "colab": {
          "base_uri": "https://localhost:8080/"
        },
        "id": "smRnRIj17f0v",
        "outputId": "a60420bc-f6ac-4a3c-ebde-fcacc29fd826"
      },
      "execution_count": null,
      "outputs": [
        {
          "output_type": "execute_result",
          "data": {
            "text/plain": [
              "['Colombia',\n",
              " 'Perú',\n",
              " 'Brasil',\n",
              " 'Mexico',\n",
              " 'China',\n",
              " 'Francia',\n",
              " 'Paraguay',\n",
              " 'Rusia']"
            ]
          },
          "metadata": {},
          "execution_count": 53
        }
      ]
    },
    {
      "cell_type": "code",
      "source": [
        "# para agregar un dato en la posipción de la lista que yo quiera uso insert\n",
        "Paises.insert(0,\"Venezuela\")\n",
        "Paises"
      ],
      "metadata": {
        "colab": {
          "base_uri": "https://localhost:8080/"
        },
        "id": "EyTkP-a273AN",
        "outputId": "da1c2650-7e7e-4350-e870-d9400b240262"
      },
      "execution_count": null,
      "outputs": [
        {
          "output_type": "execute_result",
          "data": {
            "text/plain": [
              "['Venezuela',\n",
              " 'Colombia',\n",
              " 'Perú',\n",
              " 'Brasil',\n",
              " 'Mexico',\n",
              " 'China',\n",
              " 'Francia',\n",
              " 'Paraguay',\n",
              " 'Rusia']"
            ]
          },
          "metadata": {},
          "execution_count": 54
        }
      ]
    },
    {
      "cell_type": "code",
      "source": [
        "#tambien puedo concatenar listas\n",
        "paises_europa=[\"italia\", \"alemania\", \"españa\", \"portugal\", \"polonia\"]\n",
        "paises_europa"
      ],
      "metadata": {
        "colab": {
          "base_uri": "https://localhost:8080/"
        },
        "id": "g3VW5QLE8N5-",
        "outputId": "ed0f9a3b-fc5c-4d65-c82a-c987129022f1"
      },
      "execution_count": null,
      "outputs": [
        {
          "output_type": "execute_result",
          "data": {
            "text/plain": [
              "['italia', 'alemania', 'españa', 'portugal', 'polonia']"
            ]
          },
          "metadata": {},
          "execution_count": 55
        }
      ]
    },
    {
      "cell_type": "code",
      "source": [
        "Paises + paises_europa\n"
      ],
      "metadata": {
        "colab": {
          "base_uri": "https://localhost:8080/"
        },
        "id": "x_HqIcEP8qqx",
        "outputId": "3688df7f-083a-4fa9-a1e5-757b806910b8"
      },
      "execution_count": null,
      "outputs": [
        {
          "output_type": "execute_result",
          "data": {
            "text/plain": [
              "['Venezuela',\n",
              " 'Colombia',\n",
              " 'Perú',\n",
              " 'Brasil',\n",
              " 'Mexico',\n",
              " 'China',\n",
              " 'Francia',\n",
              " 'Paraguay',\n",
              " 'Rusia',\n",
              " 'italia',\n",
              " 'alemania',\n",
              " 'españa',\n",
              " 'portugal',\n",
              " 'polonia']"
            ]
          },
          "metadata": {},
          "execution_count": 56
        }
      ]
    },
    {
      "cell_type": "code",
      "source": [
        "paises_completo=Paises+paises_europa"
      ],
      "metadata": {
        "id": "FfmXMsYa87CV"
      },
      "execution_count": null,
      "outputs": []
    },
    {
      "cell_type": "code",
      "source": [
        "paises_completo"
      ],
      "metadata": {
        "colab": {
          "base_uri": "https://localhost:8080/"
        },
        "id": "f2RiebBp9Dep",
        "outputId": "aa54a751-4625-4379-ecad-8db027f3649e"
      },
      "execution_count": null,
      "outputs": [
        {
          "output_type": "execute_result",
          "data": {
            "text/plain": [
              "['Venezuela',\n",
              " 'Colombia',\n",
              " 'Perú',\n",
              " 'Brasil',\n",
              " 'Mexico',\n",
              " 'China',\n",
              " 'Francia',\n",
              " 'Paraguay',\n",
              " 'Rusia',\n",
              " 'italia',\n",
              " 'alemania',\n",
              " 'españa',\n",
              " 'portugal',\n",
              " 'polonia']"
            ]
          },
          "metadata": {},
          "execution_count": 58
        }
      ]
    },
    {
      "cell_type": "code",
      "source": [
        "paises_completos_lista=[Paises, paises_europa]\n",
        "paises_completos_lista"
      ],
      "metadata": {
        "colab": {
          "base_uri": "https://localhost:8080/"
        },
        "id": "cPkISIhT9FH8",
        "outputId": "5edbf98a-9323-418b-eb76-37e1db761ff7"
      },
      "execution_count": null,
      "outputs": [
        {
          "output_type": "execute_result",
          "data": {
            "text/plain": [
              "[['Venezuela',\n",
              "  'Colombia',\n",
              "  'Perú',\n",
              "  'Brasil',\n",
              "  'Mexico',\n",
              "  'China',\n",
              "  'Francia',\n",
              "  'Paraguay',\n",
              "  'Rusia'],\n",
              " ['italia', 'alemania', 'españa', 'portugal', 'polonia']]"
            ]
          },
          "metadata": {},
          "execution_count": 59
        }
      ]
    },
    {
      "cell_type": "code",
      "source": [
        "########## Clase 3 ################\n",
        "#Crear lista con nombre, apellido, edad, cc, estrado civil, estatura\n",
        "nombre=\"Alexandra\"\n",
        "apellido=\"Escobar Lozano\"\n",
        "edad=28\n",
        "cedula=1069753850\n",
        "estado_civil=\"Casada\"\n",
        "estatura=1.63\n",
        "informacion=[nombre,apellido,edad,cedula,estado_civil,estatura]\n",
        "print(informacion)\n"
      ],
      "metadata": {
        "id": "ffOqAMUz908W",
        "colab": {
          "base_uri": "https://localhost:8080/"
        },
        "outputId": "e2e4fc00-ac96-4430-8773-9132d24ab4ad"
      },
      "execution_count": null,
      "outputs": [
        {
          "output_type": "stream",
          "name": "stdout",
          "text": [
            "['Alexandra', 'Escobar Lozano', 28, 1069753850, 'Casada', 1.63]\n"
          ]
        }
      ]
    },
    {
      "cell_type": "code",
      "source": [
        "#Se crea la lista con los nombres de 5 familiares\n",
        "familiares=[]\n",
        "familiares.append(\"Clemencia\")\n",
        "familiares.append(\"German\")\n",
        "familiares.append(\"Tomás\")\n",
        "familiares.append(\"Samuel\")\n",
        "familiares.append(\"Stiven\")\n",
        "print(familiares)\n"
      ],
      "metadata": {
        "colab": {
          "base_uri": "https://localhost:8080/"
        },
        "id": "mPIbaKdODu0J",
        "outputId": "aaa4c4eb-8d09-4565-f9d4-f70b5e83c46c"
      },
      "execution_count": null,
      "outputs": [
        {
          "output_type": "stream",
          "name": "stdout",
          "text": [
            "['Clemencia', 'German', 'Tomás', 'Samuel', 'Stiven']\n"
          ]
        }
      ]
    },
    {
      "cell_type": "code",
      "source": [
        "familiares.insert(1,62)\n",
        "familiares"
      ],
      "metadata": {
        "colab": {
          "base_uri": "https://localhost:8080/"
        },
        "id": "IXBGDtESKdfF",
        "outputId": "6ec09864-a85a-42be-babc-692757179286"
      },
      "execution_count": null,
      "outputs": [
        {
          "output_type": "execute_result",
          "data": {
            "text/plain": [
              "['Clemencia', 62, 'German', 'Tomás', 'Samuel', 'Stiven']"
            ]
          },
          "metadata": {},
          "execution_count": 62
        }
      ]
    },
    {
      "cell_type": "code",
      "source": [
        "familiares.insert(3,58)\n",
        "familiares"
      ],
      "metadata": {
        "colab": {
          "base_uri": "https://localhost:8080/"
        },
        "id": "Sjoi34N2NLUP",
        "outputId": "07375534-33fa-4c39-e315-7011f6dd8913"
      },
      "execution_count": null,
      "outputs": [
        {
          "output_type": "execute_result",
          "data": {
            "text/plain": [
              "['Clemencia', 62, 'German', 58, 'Tomás', 'Samuel', 'Stiven']"
            ]
          },
          "metadata": {},
          "execution_count": 63
        }
      ]
    },
    {
      "cell_type": "code",
      "source": [
        "familiares.insert(5,6)\n",
        "familiares"
      ],
      "metadata": {
        "colab": {
          "base_uri": "https://localhost:8080/"
        },
        "id": "6EwADErKNO-b",
        "outputId": "0196f5d2-c768-408d-ca60-97f1b444a47a"
      },
      "execution_count": null,
      "outputs": [
        {
          "output_type": "execute_result",
          "data": {
            "text/plain": [
              "['Clemencia', 62, 'German', 58, 'Tomás', 6, 'Samuel', 'Stiven']"
            ]
          },
          "metadata": {},
          "execution_count": 64
        }
      ]
    },
    {
      "cell_type": "code",
      "source": [
        "familiares.insert(7,3)\n",
        "familiares"
      ],
      "metadata": {
        "colab": {
          "base_uri": "https://localhost:8080/"
        },
        "id": "gIEQAKH0NTfQ",
        "outputId": "fb13bdca-9b83-41a9-88cc-c4596bd6e570"
      },
      "execution_count": null,
      "outputs": [
        {
          "output_type": "execute_result",
          "data": {
            "text/plain": [
              "['Clemencia', 62, 'German', 58, 'Tomás', 6, 'Samuel', 3, 'Stiven']"
            ]
          },
          "metadata": {},
          "execution_count": 65
        }
      ]
    },
    {
      "cell_type": "code",
      "source": [
        "familiares.insert(9,25)\n",
        "familiares"
      ],
      "metadata": {
        "colab": {
          "base_uri": "https://localhost:8080/"
        },
        "id": "h24h0IFxNY4F",
        "outputId": "ca48dd7c-bde3-4bd4-e9e8-3f98bf97728d"
      },
      "execution_count": null,
      "outputs": [
        {
          "output_type": "execute_result",
          "data": {
            "text/plain": [
              "['Clemencia', 62, 'German', 58, 'Tomás', 6, 'Samuel', 3, 'Stiven', 25]"
            ]
          },
          "metadata": {},
          "execution_count": 66
        }
      ]
    },
    {
      "cell_type": "code",
      "source": [
        "edad=input(\"Hola, que te parece si antes de apostar tu casa, vemos si eres mayor de edad, ingresa tu edad:\")"
      ],
      "metadata": {
        "colab": {
          "base_uri": "https://localhost:8080/"
        },
        "id": "1SzEOO4SKfyC",
        "outputId": "4344f511-e7e1-44ac-e7b2-70b518affec8"
      },
      "execution_count": null,
      "outputs": [
        {
          "name": "stdout",
          "output_type": "stream",
          "text": [
            "Hola, que te parece si antes de apostar tu casa, vemos si eres mayor de edad, ingresa tu edad:34\n"
          ]
        }
      ]
    },
    {
      "cell_type": "code",
      "source": [
        "nombre_1=input(\"Ingresa tu nombre\")\n",
        "print(\"La verdad hoy estás terrible \", nombre_1)"
      ],
      "metadata": {
        "colab": {
          "base_uri": "https://localhost:8080/"
        },
        "id": "dHc94aI4K1KJ",
        "outputId": "bab585c3-af65-43b2-8876-4f707e785480"
      },
      "execution_count": null,
      "outputs": [
        {
          "output_type": "stream",
          "name": "stdout",
          "text": [
            "Ingresa tu nombregses\n",
            "La verdad hoy estás terrible  gses\n"
          ]
        }
      ]
    },
    {
      "cell_type": "code",
      "source": [
        "#Para remover datos de las listas utilizo el metodo remove\n",
        "Paises"
      ],
      "metadata": {
        "colab": {
          "base_uri": "https://localhost:8080/"
        },
        "id": "JdswrHoULjgP",
        "outputId": "62a7ee2c-d34a-4db0-9436-fe7955a39d84"
      },
      "execution_count": null,
      "outputs": [
        {
          "output_type": "execute_result",
          "data": {
            "text/plain": [
              "['Venezuela',\n",
              " 'Colombia',\n",
              " 'Perú',\n",
              " 'Brasil',\n",
              " 'Mexico',\n",
              " 'China',\n",
              " 'Francia',\n",
              " 'Paraguay',\n",
              " 'Rusia']"
            ]
          },
          "metadata": {},
          "execution_count": 69
        }
      ]
    },
    {
      "cell_type": "code",
      "source": [
        "Paises.remove(\"Rusia\")\n",
        "Paises"
      ],
      "metadata": {
        "colab": {
          "base_uri": "https://localhost:8080/"
        },
        "id": "igwowJcfLzwo",
        "outputId": "08d85f01-bf8c-4b9d-a6bf-b008ea696ae2"
      },
      "execution_count": null,
      "outputs": [
        {
          "output_type": "execute_result",
          "data": {
            "text/plain": [
              "['Venezuela',\n",
              " 'Colombia',\n",
              " 'Perú',\n",
              " 'Brasil',\n",
              " 'Mexico',\n",
              " 'China',\n",
              " 'Francia',\n",
              " 'Paraguay']"
            ]
          },
          "metadata": {},
          "execution_count": 70
        }
      ]
    },
    {
      "cell_type": "code",
      "source": [
        "#Para remover datos de las listas utilizo el metodo pop\n",
        "Paises.pop(5)\n",
        "Paises"
      ],
      "metadata": {
        "colab": {
          "base_uri": "https://localhost:8080/"
        },
        "id": "AmF_YKDnL-MO",
        "outputId": "6848bd6a-f352-4d21-bc77-08a651644730"
      },
      "execution_count": null,
      "outputs": [
        {
          "output_type": "execute_result",
          "data": {
            "text/plain": [
              "['Venezuela', 'Colombia', 'Perú', 'Brasil', 'Mexico', 'Francia', 'Paraguay']"
            ]
          },
          "metadata": {},
          "execution_count": 71
        }
      ]
    },
    {
      "cell_type": "code",
      "source": [
        "#Para eliminar definitivamente se usa del\n",
        "del Paises[5]"
      ],
      "metadata": {
        "id": "Kl2fBru4MS6E"
      },
      "execution_count": null,
      "outputs": []
    },
    {
      "cell_type": "code",
      "source": [
        "Paises"
      ],
      "metadata": {
        "colab": {
          "base_uri": "https://localhost:8080/"
        },
        "id": "4HIZKQ6JMgKo",
        "outputId": "112dfa31-f860-43c8-9706-13f5ba809dcc"
      },
      "execution_count": null,
      "outputs": [
        {
          "output_type": "execute_result",
          "data": {
            "text/plain": [
              "['Venezuela', 'Colombia', 'Perú', 'Brasil', 'Mexico', 'Paraguay']"
            ]
          },
          "metadata": {},
          "execution_count": 73
        }
      ]
    },
    {
      "cell_type": "code",
      "source": [
        "#ordenar las listas, las puedo ordenar de menor a mayor o alfabeticamente con sort\n",
        "Paises.sort()\n",
        "Paises"
      ],
      "metadata": {
        "colab": {
          "base_uri": "https://localhost:8080/"
        },
        "id": "VzPIQwBJOTxY",
        "outputId": "d81ec311-9528-4a9c-f815-780039429da4"
      },
      "execution_count": null,
      "outputs": [
        {
          "output_type": "execute_result",
          "data": {
            "text/plain": [
              "['Brasil', 'Colombia', 'Mexico', 'Paraguay', 'Perú', 'Venezuela']"
            ]
          },
          "metadata": {},
          "execution_count": 74
        }
      ]
    },
    {
      "cell_type": "code",
      "source": [
        "digitos=[1,5,7,3,8,9,2,4,6]\n",
        "digitos.sort()\n",
        "digitos"
      ],
      "metadata": {
        "colab": {
          "base_uri": "https://localhost:8080/"
        },
        "id": "rzwG--YhOj0v",
        "outputId": "fd988617-240c-4f18-e157-3d4ada193431"
      },
      "execution_count": null,
      "outputs": [
        {
          "output_type": "execute_result",
          "data": {
            "text/plain": [
              "[1, 2, 3, 4, 5, 6, 7, 8, 9]"
            ]
          },
          "metadata": {},
          "execution_count": 75
        }
      ]
    },
    {
      "cell_type": "code",
      "source": [
        "digitos.sort(reverse=True)\n",
        "digitos"
      ],
      "metadata": {
        "colab": {
          "base_uri": "https://localhost:8080/"
        },
        "id": "KKXDXKkTO1Ro",
        "outputId": "3f36b3d1-625b-4c6c-c558-e67d53e798cf"
      },
      "execution_count": null,
      "outputs": [
        {
          "output_type": "execute_result",
          "data": {
            "text/plain": [
              "[9, 8, 7, 6, 5, 4, 3, 2, 1]"
            ]
          },
          "metadata": {},
          "execution_count": 76
        }
      ]
    },
    {
      "cell_type": "code",
      "source": [
        "Paises.sort(reverse=True)\n",
        "Paises"
      ],
      "metadata": {
        "colab": {
          "base_uri": "https://localhost:8080/"
        },
        "id": "uweWL4PtO_26",
        "outputId": "ce41c859-6ce6-4c72-c47a-b6a33e000564"
      },
      "execution_count": null,
      "outputs": [
        {
          "output_type": "execute_result",
          "data": {
            "text/plain": [
              "['Venezuela', 'Perú', 'Paraguay', 'Mexico', 'Colombia', 'Brasil']"
            ]
          },
          "metadata": {},
          "execution_count": 77
        }
      ]
    },
    {
      "cell_type": "code",
      "source": [
        "#para copiar una lista se usa copy\n",
        "paises_copia=Paises.copy()\n",
        "paises_copia"
      ],
      "metadata": {
        "colab": {
          "base_uri": "https://localhost:8080/"
        },
        "id": "DiQpRPVDPhrG",
        "outputId": "96fa81fc-9f9a-4a87-ecb8-560d2a858fdc"
      },
      "execution_count": null,
      "outputs": [
        {
          "output_type": "execute_result",
          "data": {
            "text/plain": [
              "['Venezuela', 'Perú', 'Paraguay', 'Mexico', 'Colombia', 'Brasil']"
            ]
          },
          "metadata": {},
          "execution_count": 78
        }
      ]
    },
    {
      "cell_type": "code",
      "source": [
        "paises_copia2=Paises[:]\n",
        "paises_copia2"
      ],
      "metadata": {
        "colab": {
          "base_uri": "https://localhost:8080/"
        },
        "id": "Ph2kzLGtP4TH",
        "outputId": "6ff5cee6-211d-46f0-df30-b1c129ae60a8"
      },
      "execution_count": null,
      "outputs": [
        {
          "output_type": "execute_result",
          "data": {
            "text/plain": [
              "['Venezuela', 'Perú', 'Paraguay', 'Mexico', 'Colombia', 'Brasil']"
            ]
          },
          "metadata": {},
          "execution_count": 79
        }
      ]
    },
    {
      "cell_type": "markdown",
      "source": [
        "# **Diccionarios**\n",
        "\n",
        "Son datos que tienen una llave y un valor a la combinación, entre llave y valor se le conoce como item, en los diccionarios puedo usar metodos parecidos a los de las listas\n"
      ],
      "metadata": {
        "id": "xVfcqJWpQLUT"
      }
    },
    {
      "cell_type": "code",
      "source": [
        "diccionario_ing_esp={\"casa\":\"House\", \"entender\":\"Understand\", \"sediento\":\"Thirty\", \"Rojo\":\"Red\", \"ocupado\":\"Busy\"}\n",
        "diccionario_ing_esp"
      ],
      "metadata": {
        "colab": {
          "base_uri": "https://localhost:8080/"
        },
        "id": "-RIL9vy8QKn8",
        "outputId": "67d41f3a-3a28-4df6-cdfa-a732f728f865"
      },
      "execution_count": null,
      "outputs": [
        {
          "output_type": "execute_result",
          "data": {
            "text/plain": [
              "{'casa': 'House',\n",
              " 'entender': 'Understand',\n",
              " 'sediento': 'Thirty',\n",
              " 'Rojo': 'Red',\n",
              " 'ocupado': 'Busy'}"
            ]
          },
          "metadata": {},
          "execution_count": 80
        }
      ]
    },
    {
      "cell_type": "code",
      "source": [
        "diccionario_ing_esp['casa']"
      ],
      "metadata": {
        "colab": {
          "base_uri": "https://localhost:8080/",
          "height": 35
        },
        "id": "qg3-7hw9SUal",
        "outputId": "d592dc5a-1a05-45ce-c3cb-3ca0c15aebac"
      },
      "execution_count": null,
      "outputs": [
        {
          "output_type": "execute_result",
          "data": {
            "text/plain": [
              "'House'"
            ],
            "application/vnd.google.colaboratory.intrinsic+json": {
              "type": "string"
            }
          },
          "metadata": {},
          "execution_count": 81
        }
      ]
    },
    {
      "cell_type": "code",
      "source": [
        "diccionario_ing_esp.keys()"
      ],
      "metadata": {
        "colab": {
          "base_uri": "https://localhost:8080/"
        },
        "id": "wF8h-S9NSZj3",
        "outputId": "600a3348-aa48-4975-c0aa-c65ff7c62576"
      },
      "execution_count": null,
      "outputs": [
        {
          "output_type": "execute_result",
          "data": {
            "text/plain": [
              "dict_keys(['casa', 'entender', 'sediento', 'Rojo', 'ocupado'])"
            ]
          },
          "metadata": {},
          "execution_count": 82
        }
      ]
    },
    {
      "cell_type": "code",
      "source": [
        "#para llamar las llaves de los diccionarios uso values\n",
        "diccionario_ing_esp.values()"
      ],
      "metadata": {
        "colab": {
          "base_uri": "https://localhost:8080/"
        },
        "id": "cQrPuqsSSrLF",
        "outputId": "534ba642-193d-4551-b249-ad4f683ba8e4"
      },
      "execution_count": null,
      "outputs": [
        {
          "output_type": "execute_result",
          "data": {
            "text/plain": [
              "dict_values(['House', 'Understand', 'Thirty', 'Red', 'Busy'])"
            ]
          },
          "metadata": {},
          "execution_count": 83
        }
      ]
    },
    {
      "cell_type": "code",
      "source": [
        "#para mostrar todo lo puedo traer de dos maneras\n",
        "diccionario_ing_esp.items()"
      ],
      "metadata": {
        "colab": {
          "base_uri": "https://localhost:8080/"
        },
        "id": "gNuCg-mdS21h",
        "outputId": "d270a7ea-2461-433e-a582-829828b9500e"
      },
      "execution_count": null,
      "outputs": [
        {
          "output_type": "execute_result",
          "data": {
            "text/plain": [
              "dict_items([('casa', 'House'), ('entender', 'Understand'), ('sediento', 'Thirty'), ('Rojo', 'Red'), ('ocupado', 'Busy')])"
            ]
          },
          "metadata": {},
          "execution_count": 84
        }
      ]
    },
    {
      "cell_type": "code",
      "source": [
        "diccionario_ing_esp"
      ],
      "metadata": {
        "colab": {
          "base_uri": "https://localhost:8080/"
        },
        "id": "nGM1RUq8S_Yv",
        "outputId": "08b3f8a1-ba6c-482a-f5ac-1424a82548d4"
      },
      "execution_count": null,
      "outputs": [
        {
          "output_type": "execute_result",
          "data": {
            "text/plain": [
              "{'casa': 'House',\n",
              " 'entender': 'Understand',\n",
              " 'sediento': 'Thirty',\n",
              " 'Rojo': 'Red',\n",
              " 'ocupado': 'Busy'}"
            ]
          },
          "metadata": {},
          "execution_count": 85
        }
      ]
    },
    {
      "cell_type": "code",
      "source": [
        "type(diccionario_ing_esp)"
      ],
      "metadata": {
        "colab": {
          "base_uri": "https://localhost:8080/"
        },
        "id": "0OOJtY25TG_e",
        "outputId": "8c18aa31-d1a3-434c-f2d3-20d1ee98948c"
      },
      "execution_count": null,
      "outputs": [
        {
          "output_type": "execute_result",
          "data": {
            "text/plain": [
              "dict"
            ]
          },
          "metadata": {},
          "execution_count": 86
        }
      ]
    },
    {
      "cell_type": "code",
      "source": [
        "#para agregar un nuevo elemento a un diccionario\n",
        "diccionario_ing_esp[\"azul\"]=\"blue\"\n",
        "diccionario_ing_esp"
      ],
      "metadata": {
        "colab": {
          "base_uri": "https://localhost:8080/"
        },
        "id": "3wMH_ZGETMu2",
        "outputId": "04647d0b-4406-48ef-9768-2a73374faed2"
      },
      "execution_count": null,
      "outputs": [
        {
          "output_type": "execute_result",
          "data": {
            "text/plain": [
              "{'casa': 'House',\n",
              " 'entender': 'Understand',\n",
              " 'sediento': 'Thirty',\n",
              " 'Rojo': 'Red',\n",
              " 'ocupado': 'Busy',\n",
              " 'azul': 'blue'}"
            ]
          },
          "metadata": {},
          "execution_count": 87
        }
      ]
    },
    {
      "cell_type": "code",
      "source": [
        "#para actualziar un dato en el dict uso update\n",
        "diccionario_ing_esp.update({\"Negro\":\"black\"})\n",
        "diccionario_ing_esp"
      ],
      "metadata": {
        "colab": {
          "base_uri": "https://localhost:8080/"
        },
        "id": "KXY7ZWruTnSS",
        "outputId": "0c6e8b09-cca9-457e-ff82-4f9422bf7568"
      },
      "execution_count": null,
      "outputs": [
        {
          "output_type": "execute_result",
          "data": {
            "text/plain": [
              "{'casa': 'House',\n",
              " 'entender': 'Understand',\n",
              " 'sediento': 'Thirty',\n",
              " 'Rojo': 'Red',\n",
              " 'ocupado': 'Busy',\n",
              " 'azul': 'blue',\n",
              " 'Negro': 'black'}"
            ]
          },
          "metadata": {},
          "execution_count": 88
        }
      ]
    },
    {
      "cell_type": "code",
      "source": [
        "#Agregar lista a un diccionario\n",
        "diccionario_ing_esp.update({\"Gris\":\"grey\",\"pronombres\":[\"he\",\"she\",\"it\"]})\n",
        "diccionario_ing_esp"
      ],
      "metadata": {
        "colab": {
          "base_uri": "https://localhost:8080/"
        },
        "id": "e0CsZPC1UBCs",
        "outputId": "fee0785a-5bb6-4a9f-b638-3451acb38020"
      },
      "execution_count": null,
      "outputs": [
        {
          "output_type": "execute_result",
          "data": {
            "text/plain": [
              "{'casa': 'House',\n",
              " 'entender': 'Understand',\n",
              " 'sediento': 'Thirty',\n",
              " 'Rojo': 'Red',\n",
              " 'ocupado': 'Busy',\n",
              " 'azul': 'blue',\n",
              " 'Negro': 'black',\n",
              " 'Gris': 'grey',\n",
              " 'pronombres': ['he', 'she', 'it']}"
            ]
          },
          "metadata": {},
          "execution_count": 89
        }
      ]
    },
    {
      "cell_type": "code",
      "source": [
        "diccionario_ing_esp.values()"
      ],
      "metadata": {
        "colab": {
          "base_uri": "https://localhost:8080/"
        },
        "id": "Sjk2GN6nVH0V",
        "outputId": "10f90395-ae8c-4e33-fcf8-9ae43ba56477"
      },
      "execution_count": null,
      "outputs": [
        {
          "output_type": "execute_result",
          "data": {
            "text/plain": [
              "dict_values(['House', 'Understand', 'Thirty', 'Red', 'Busy', 'blue', 'black', 'grey', ['he', 'she', 'it']])"
            ]
          },
          "metadata": {},
          "execution_count": 90
        }
      ]
    },
    {
      "cell_type": "code",
      "source": [
        "#Para borrar datos se usa el metodo pop\n",
        "diccionario_ing_esp.pop(\"Gris\")\n",
        "diccionario_ing_esp\n"
      ],
      "metadata": {
        "colab": {
          "base_uri": "https://localhost:8080/"
        },
        "id": "A_Uf3JYKVPcJ",
        "outputId": "25a24910-a6b2-4260-ce78-1f1d8fa31870"
      },
      "execution_count": null,
      "outputs": [
        {
          "output_type": "execute_result",
          "data": {
            "text/plain": [
              "{'casa': 'House',\n",
              " 'entender': 'Understand',\n",
              " 'sediento': 'Thirty',\n",
              " 'Rojo': 'Red',\n",
              " 'ocupado': 'Busy',\n",
              " 'azul': 'blue',\n",
              " 'Negro': 'black',\n",
              " 'pronombres': ['he', 'she', 'it']}"
            ]
          },
          "metadata": {},
          "execution_count": 91
        }
      ]
    },
    {
      "cell_type": "code",
      "source": [
        "#para eliminar del diccionario podemos usar del\n",
        "del diccionario_ing_esp [\"pronombres\"]\n",
        "diccionario_ing_esp"
      ],
      "metadata": {
        "colab": {
          "base_uri": "https://localhost:8080/"
        },
        "id": "8YNBY4uzWXK1",
        "outputId": "98aa949a-614f-47e3-9c5c-8b475f9ee5aa"
      },
      "execution_count": null,
      "outputs": [
        {
          "output_type": "execute_result",
          "data": {
            "text/plain": [
              "{'casa': 'House',\n",
              " 'entender': 'Understand',\n",
              " 'sediento': 'Thirty',\n",
              " 'Rojo': 'Red',\n",
              " 'ocupado': 'Busy',\n",
              " 'azul': 'blue',\n",
              " 'Negro': 'black'}"
            ]
          },
          "metadata": {},
          "execution_count": 92
        }
      ]
    },
    {
      "cell_type": "markdown",
      "source": [
        "## **Operadores Logicos**\n",
        "\n",
        "Se usan para comprobar condiciones y devolver tru o false dependiendo el caso son enscenciales para la toma de decisiones y la creación de la logica de programación\n"
      ],
      "metadata": {
        "id": "qG0nODVzbdSR"
      }
    },
    {
      "cell_type": "code",
      "source": [
        "#El primero AND\n",
        "print(\"Operador AND (Que significa Y)\")\n",
        "print(\"Para wue sea verdadero todas las condiciones deben ser verdaderas\")\n",
        "5>3 and 5<10"
      ],
      "metadata": {
        "colab": {
          "base_uri": "https://localhost:8080/"
        },
        "id": "bNTtNCL9bcT9",
        "outputId": "e8a8b895-65f1-4e03-be9b-525a3c61c629"
      },
      "execution_count": null,
      "outputs": [
        {
          "output_type": "stream",
          "name": "stdout",
          "text": [
            "Operador AND (Que significa Y)\n",
            "Para wue sea verdadero todas las condiciones deben ser verdaderas\n"
          ]
        },
        {
          "output_type": "execute_result",
          "data": {
            "text/plain": [
              "True"
            ]
          },
          "metadata": {},
          "execution_count": 93
        }
      ]
    },
    {
      "cell_type": "code",
      "source": [
        "5<3 and 5<10"
      ],
      "metadata": {
        "colab": {
          "base_uri": "https://localhost:8080/"
        },
        "id": "D_4oexh8bu1h",
        "outputId": "725a6572-481a-42ee-bd5f-53b8762e3502"
      },
      "execution_count": null,
      "outputs": [
        {
          "output_type": "execute_result",
          "data": {
            "text/plain": [
              "False"
            ]
          },
          "metadata": {},
          "execution_count": 94
        }
      ]
    },
    {
      "cell_type": "code",
      "source": [
        "#para usar O se usa la palabra reservada OR donde por lo menos una de las condiciones es verdadera\n",
        "5<3 or 5<10"
      ],
      "metadata": {
        "colab": {
          "base_uri": "https://localhost:8080/"
        },
        "id": "KIN5BWUvcie3",
        "outputId": "710f32f9-20fc-4efa-c424-f927a30312d6"
      },
      "execution_count": null,
      "outputs": [
        {
          "output_type": "execute_result",
          "data": {
            "text/plain": [
              "True"
            ]
          },
          "metadata": {},
          "execution_count": 95
        }
      ]
    },
    {
      "cell_type": "code",
      "source": [
        "5<3 or 5>10"
      ],
      "metadata": {
        "colab": {
          "base_uri": "https://localhost:8080/"
        },
        "id": "OiN0rX0Ac6WB",
        "outputId": "3d426caf-479c-4d03-ad6e-044e810c7aa9"
      },
      "execution_count": null,
      "outputs": [
        {
          "output_type": "execute_result",
          "data": {
            "text/plain": [
              "False"
            ]
          },
          "metadata": {},
          "execution_count": 96
        }
      ]
    },
    {
      "cell_type": "code",
      "source": [
        "#Not para la negación\n",
        "print(\"operador not es la negación logica\")\n",
        "not 5>3"
      ],
      "metadata": {
        "colab": {
          "base_uri": "https://localhost:8080/"
        },
        "id": "PzezzsvSdMBo",
        "outputId": "7448b4c7-ab7c-4106-870b-2553ab9a6ef1"
      },
      "execution_count": null,
      "outputs": [
        {
          "output_type": "stream",
          "name": "stdout",
          "text": [
            "operador not es la negación logica\n"
          ]
        },
        {
          "output_type": "execute_result",
          "data": {
            "text/plain": [
              "False"
            ]
          },
          "metadata": {},
          "execution_count": 97
        }
      ]
    },
    {
      "cell_type": "markdown",
      "source": [
        "**Operaciones Matematicas**\n",
        "\n",
        "Se usaran las mas basicas para cualqueir lenguaje de programación suma resta multiplicación potencia y modulo"
      ],
      "metadata": {
        "id": "hLBXm3kBdinY"
      }
    },
    {
      "cell_type": "code",
      "source": [
        "#Suma: se representa con el simbolo + y puede concatenar\n",
        "1+2"
      ],
      "metadata": {
        "colab": {
          "base_uri": "https://localhost:8080/"
        },
        "id": "E-Wixx46diRH",
        "outputId": "0033d18d-8927-4bb5-dbd6-afeb75f067db"
      },
      "execution_count": null,
      "outputs": [
        {
          "output_type": "execute_result",
          "data": {
            "text/plain": [
              "3"
            ]
          },
          "metadata": {},
          "execution_count": 98
        }
      ]
    },
    {
      "cell_type": "code",
      "source": [
        "#resta se represerta con el guion -\n",
        "6-5"
      ],
      "metadata": {
        "colab": {
          "base_uri": "https://localhost:8080/"
        },
        "id": "7ppAevKydycX",
        "outputId": "e1612d70-a098-47b0-aeb7-fbd3f5cf2365"
      },
      "execution_count": null,
      "outputs": [
        {
          "output_type": "execute_result",
          "data": {
            "text/plain": [
              "1"
            ]
          },
          "metadata": {},
          "execution_count": 99
        }
      ]
    },
    {
      "cell_type": "code",
      "source": [
        "#multiplicación se representa con el simbolo * me sirve para multiplicar string\n",
        "6*12"
      ],
      "metadata": {
        "colab": {
          "base_uri": "https://localhost:8080/"
        },
        "id": "-pRFRkAFd-Rz",
        "outputId": "8f3364d1-e0e7-4f8d-a668-21c13cc30392"
      },
      "execution_count": null,
      "outputs": [
        {
          "output_type": "execute_result",
          "data": {
            "text/plain": [
              "72"
            ]
          },
          "metadata": {},
          "execution_count": 100
        }
      ]
    },
    {
      "cell_type": "code",
      "source": [
        "#División se representa con el / y da resultados con decimales\n",
        "37/3"
      ],
      "metadata": {
        "colab": {
          "base_uri": "https://localhost:8080/"
        },
        "id": "VHtSYsVMeQnj",
        "outputId": "656fa0eb-c956-42ce-9502-d2447637fd2e"
      },
      "execution_count": null,
      "outputs": [
        {
          "output_type": "execute_result",
          "data": {
            "text/plain": [
              "12.333333333333334"
            ]
          },
          "metadata": {},
          "execution_count": 101
        }
      ]
    },
    {
      "cell_type": "code",
      "source": [
        "#potencia se representa el doble ** primero la base y luego el exponente\n",
        "5**5"
      ],
      "metadata": {
        "colab": {
          "base_uri": "https://localhost:8080/"
        },
        "id": "n9LRZBPqedDh",
        "outputId": "cd6034fa-f22f-4956-b4df-73aefa1ff3d8"
      },
      "execution_count": null,
      "outputs": [
        {
          "output_type": "execute_result",
          "data": {
            "text/plain": [
              "3125"
            ]
          },
          "metadata": {},
          "execution_count": 102
        }
      ]
    },
    {
      "cell_type": "code",
      "source": [
        "#modulo % es el resultado obtenido de la resta en la división\n",
        "23%4"
      ],
      "metadata": {
        "colab": {
          "base_uri": "https://localhost:8080/"
        },
        "id": "fV4wd8FTeruN",
        "outputId": "07565010-d515-46b3-be92-23c240a220ea"
      },
      "execution_count": null,
      "outputs": [
        {
          "output_type": "execute_result",
          "data": {
            "text/plain": [
              "3"
            ]
          },
          "metadata": {},
          "execution_count": 103
        }
      ]
    },
    {
      "cell_type": "markdown",
      "source": [
        "**Operadores de Comparación **\n",
        "\n",
        "Nos sirve para comparar valores y saber si la comparación en verdadera o Falsa, para comparar si dos valores son iguales se pone el doble == (==)"
      ],
      "metadata": {
        "id": "1sewRhBWfkSJ"
      }
    },
    {
      "cell_type": "code",
      "source": [
        "(3+29)==21"
      ],
      "metadata": {
        "colab": {
          "base_uri": "https://localhost:8080/"
        },
        "id": "YcKq84o3fieo",
        "outputId": "be24c507-3724-4557-8fa6-9e5600a696d9"
      },
      "execution_count": null,
      "outputs": [
        {
          "output_type": "execute_result",
          "data": {
            "text/plain": [
              "False"
            ]
          },
          "metadata": {},
          "execution_count": 104
        }
      ]
    },
    {
      "cell_type": "code",
      "source": [
        "#diferente de !=\n",
        "(3+9)!=21"
      ],
      "metadata": {
        "colab": {
          "base_uri": "https://localhost:8080/"
        },
        "id": "Iz60mjh4f582",
        "outputId": "ad9ed943-f97a-485b-e57e-023376e97104"
      },
      "execution_count": null,
      "outputs": [
        {
          "output_type": "execute_result",
          "data": {
            "text/plain": [
              "True"
            ]
          },
          "metadata": {},
          "execution_count": 105
        }
      ]
    },
    {
      "cell_type": "code",
      "source": [
        "#mayor que >\n",
        "4>2"
      ],
      "metadata": {
        "colab": {
          "base_uri": "https://localhost:8080/"
        },
        "id": "Ss-JZe7hgHpM",
        "outputId": "5ec49880-9353-4563-dc01-1a78a76845bf"
      },
      "execution_count": null,
      "outputs": [
        {
          "output_type": "execute_result",
          "data": {
            "text/plain": [
              "True"
            ]
          },
          "metadata": {},
          "execution_count": 106
        }
      ]
    },
    {
      "cell_type": "code",
      "source": [
        "(3+9)<21"
      ],
      "metadata": {
        "colab": {
          "base_uri": "https://localhost:8080/"
        },
        "id": "ioAQ59ltgWLB",
        "outputId": "d9fdf15e-bf4b-4c6d-f6e1-9edb0a9edff7"
      },
      "execution_count": null,
      "outputs": [
        {
          "output_type": "execute_result",
          "data": {
            "text/plain": [
              "True"
            ]
          },
          "metadata": {},
          "execution_count": 107
        }
      ]
    },
    {
      "cell_type": "code",
      "source": [
        "#menor o igual o mayor o igual\n",
        "5>=4"
      ],
      "metadata": {
        "colab": {
          "base_uri": "https://localhost:8080/"
        },
        "id": "2kIGxf2Hgbah",
        "outputId": "a0e000ad-b1c4-4cd5-a943-22a7ff61e703"
      },
      "execution_count": null,
      "outputs": [
        {
          "output_type": "execute_result",
          "data": {
            "text/plain": [
              "True"
            ]
          },
          "metadata": {},
          "execution_count": 108
        }
      ]
    },
    {
      "cell_type": "code",
      "source": [
        "5<=5\n"
      ],
      "metadata": {
        "colab": {
          "base_uri": "https://localhost:8080/"
        },
        "id": "IOrCUdEBgmDH",
        "outputId": "c8e1bda5-7f7c-4d20-c634-1c1e898ddde3"
      },
      "execution_count": null,
      "outputs": [
        {
          "output_type": "execute_result",
          "data": {
            "text/plain": [
              "True"
            ]
          },
          "metadata": {},
          "execution_count": 109
        }
      ]
    },
    {
      "cell_type": "markdown",
      "source": [
        "**Condicionales**\n",
        "\n",
        "Me permiten ejecutar un bloque de codigo si la condición es verdades o falso, sirve como ente de control, su sintaxis es de la siguiente manera, son : **if es igual al si, elif, sino si, else sino**"
      ],
      "metadata": {
        "id": "KWEFgVAQgyMH"
      }
    },
    {
      "cell_type": "code",
      "source": [
        "#if la condición:\n",
        " #codigo que quiero ejecutar)\n",
        "#else\n",
        " #(ejecute esto)"
      ],
      "metadata": {
        "id": "Ubjynh4Tgxfj"
      },
      "execution_count": null,
      "outputs": []
    },
    {
      "cell_type": "code",
      "source": [
        "edad_michael=16\n",
        "\n",
        "if edad_michael >= 18:\n",
        "  print(\"Puede acceder a la pagina\")\n",
        "else:\n",
        "  print(\"No puedes acceder a la página\")"
      ],
      "metadata": {
        "colab": {
          "base_uri": "https://localhost:8080/"
        },
        "id": "Q48bH82-hg2O",
        "outputId": "f935c017-ad95-4dc4-e848-f67f67ed3847"
      },
      "execution_count": null,
      "outputs": [
        {
          "output_type": "stream",
          "name": "stdout",
          "text": [
            "No puedes acceder a la página\n"
          ]
        }
      ]
    },
    {
      "cell_type": "code",
      "source": [
        "edad_usuario=int(input(\"Ingrese su edad:\"))\n",
        "if edad_usuario >= 18:\n",
        "  print(\"Bienvenido puedes apostar tu casa\")\n",
        "else:\n",
        "  print(\"No puedes apostar\")"
      ],
      "metadata": {
        "colab": {
          "base_uri": "https://localhost:8080/"
        },
        "id": "Gu4cNXFKibi8",
        "outputId": "fad3b27e-002e-4bc2-9910-f1ace37556ee"
      },
      "execution_count": null,
      "outputs": [
        {
          "output_type": "stream",
          "name": "stdout",
          "text": [
            "Ingrese su edad:34\n",
            "Bienvenido puedes apostar tu casa\n"
          ]
        }
      ]
    },
    {
      "cell_type": "code",
      "source": [
        "edad_usuario=int(input(\"Ingrese su edad:\"))\n",
        "if edad_usuario >= 18:\n",
        "  print(\"Bienvenido puedes apostar tu casa\")\n",
        "\n",
        "elif edad_usuario >=13:\n",
        "  print(\"Eres un adolescente pero no te preocupes, TE ESPERAMOS\")\n",
        "else:\n",
        "  print(\"No puedes apostar\")"
      ],
      "metadata": {
        "colab": {
          "base_uri": "https://localhost:8080/"
        },
        "id": "izlmkc5zjexl",
        "outputId": "6f43b265-b37b-4738-bd2e-8618cecbbc02"
      },
      "execution_count": null,
      "outputs": [
        {
          "output_type": "stream",
          "name": "stdout",
          "text": [
            "Ingrese su edad:34\n",
            "Bienvenido puedes apostar tu casa\n"
          ]
        }
      ]
    },
    {
      "cell_type": "code",
      "source": [
        "Paises"
      ],
      "metadata": {
        "colab": {
          "base_uri": "https://localhost:8080/"
        },
        "id": "O5PqfPqMkDf8",
        "outputId": "70c0389f-7f99-44d0-823b-db47480d7350"
      },
      "execution_count": null,
      "outputs": [
        {
          "output_type": "execute_result",
          "data": {
            "text/plain": [
              "['Venezuela', 'Perú', 'Paraguay', 'Mexico', 'Colombia', 'Brasil']"
            ]
          },
          "metadata": {},
          "execution_count": 114
        }
      ]
    },
    {
      "cell_type": "code",
      "source": [
        "if \"Colombia\" not in Paises:\n",
        "  print(\"Esta no es una lista latinoamericana\")\n",
        "else:\n",
        "  print(\"Los sudacas\")"
      ],
      "metadata": {
        "colab": {
          "base_uri": "https://localhost:8080/"
        },
        "id": "dfQFpDjukGhD",
        "outputId": "891c44be-759d-4133-9c6f-244d4636bc50"
      },
      "execution_count": null,
      "outputs": [
        {
          "output_type": "stream",
          "name": "stdout",
          "text": [
            "Los sudacas\n"
          ]
        }
      ]
    },
    {
      "cell_type": "markdown",
      "source": [
        "**Evaluación 4 de Octubre**"
      ],
      "metadata": {
        "id": "FT7f7qB5fF6T"
      }
    },
    {
      "cell_type": "code",
      "source": [
        "edad=int(input(\"Ingrese su edad\"))\n",
        "\n",
        "if edad >=18 :\n",
        "  print(\"Eres Mayor de edad\")\n",
        "else:\n",
        "  print(\"No eres mayor de edad\")"
      ],
      "metadata": {
        "colab": {
          "base_uri": "https://localhost:8080/"
        },
        "id": "PtE7HUiBfqzC",
        "outputId": "220b26fa-4bc5-4d08-e080-2a20afd8552a"
      },
      "execution_count": null,
      "outputs": [
        {
          "output_type": "stream",
          "name": "stdout",
          "text": [
            "Ingrese su edad54\n",
            "Eres Mayor de edad\n"
          ]
        }
      ]
    },
    {
      "cell_type": "code",
      "source": [],
      "metadata": {
        "id": "xZ2XZwT6fFgP"
      },
      "execution_count": null,
      "outputs": []
    },
    {
      "cell_type": "code",
      "source": [
        "numero1=int(input(\"Ingresa el primer numero\"))\n",
        "numero2=int(input(\"Ingresa el segundo numero numero\"))\n",
        "suma=numero1+numero2\n",
        "resta=numero1-numero2\n",
        "multiplicacion=numero1*numero2\n",
        "division=numero1/numero2\n",
        "print(\"el valor de la suma es:\", suma)\n",
        "print(\"el valor de la resta es:\", resta)\n",
        "print(\"el valor de la multiplicacion es:\", multiplicacion)\n",
        "print(\"el valor de la division es:\", division)\n"
      ],
      "metadata": {
        "colab": {
          "base_uri": "https://localhost:8080/"
        },
        "id": "8KMnq-ufg_dU",
        "outputId": "7a83cae1-3712-4dc3-b414-dd463bfb7d96"
      },
      "execution_count": null,
      "outputs": [
        {
          "output_type": "stream",
          "name": "stdout",
          "text": [
            "Ingresa el primer numero3\n",
            "Ingresa el segundo numero numero4\n",
            "el valor de la suma es: 7\n",
            "el valor de la resta es: -1\n",
            "el valor de la multiplicacion es: 12\n",
            "el valor de la division es: 0.75\n"
          ]
        }
      ]
    },
    {
      "cell_type": "code",
      "source": [
        "numeropotencia=int(input(\"Ingresa el primer numero\"))\n",
        "potencia=numeropotencia**2\n",
        "potencia\n"
      ],
      "metadata": {
        "colab": {
          "base_uri": "https://localhost:8080/"
        },
        "id": "wtyRfBU4iGOq",
        "outputId": "418d7f73-f857-4f27-a852-b4e3c186d011"
      },
      "execution_count": null,
      "outputs": [
        {
          "name": "stdout",
          "output_type": "stream",
          "text": [
            "Ingresa el primer numero3\n"
          ]
        },
        {
          "output_type": "execute_result",
          "data": {
            "text/plain": [
              "9"
            ]
          },
          "metadata": {},
          "execution_count": 118
        }
      ]
    },
    {
      "cell_type": "code",
      "source": [],
      "metadata": {
        "id": "c7sZ_OG5i0E3"
      },
      "execution_count": null,
      "outputs": []
    },
    {
      "cell_type": "code",
      "source": [
        "#usa una condicional para crear un programa que verifique si una persona tiene entre 13 y 18 años o si es mayor de edad, pero tamien que me diga si es hombre o mujer\n",
        "edad=int(input(\"Ingrese su edad\"))\n",
        "Genero=input(\"Ingrese su genero\")\n",
        "\n",
        "if edad >=18 :\n",
        "  print(\"Eres Mayor de edad tienes \", edad, \"años\", Genero)\n",
        "\n",
        "elif edad >= 13 and edad <18:\n",
        "\n",
        "  print(\"Tienes: \", edad, \"Años Eres joven\", edad, Genero)\n",
        "\n",
        "else:\n",
        "  print(\"No eres mayor de tienes\", edad, \"años\", Genero)"
      ],
      "metadata": {
        "colab": {
          "base_uri": "https://localhost:8080/"
        },
        "id": "Ea4fTM76kdvW",
        "outputId": "0366c068-90c6-4927-a312-f0a1660365a4"
      },
      "execution_count": null,
      "outputs": [
        {
          "output_type": "stream",
          "name": "stdout",
          "text": [
            "Ingrese su edad45\n",
            "Ingrese su generoh\n",
            "Eres Mayor de edad tienes  45 años h\n"
          ]
        }
      ]
    },
    {
      "cell_type": "code",
      "source": [],
      "metadata": {
        "id": "FWGqxUKiniJo"
      },
      "execution_count": null,
      "outputs": []
    },
    {
      "cell_type": "code",
      "source": [
        "#diccionario con genero, edad, descripcion inprimir\n",
        "diccionario_alex={\"genero\":\"femenino\",\"nombre\":\"alexandra\",\"edad\":28,\"descripcion\":\"estudiante de ingenieria, aprendiendo python\"}\n",
        "diccionario_alex"
      ],
      "metadata": {
        "colab": {
          "base_uri": "https://localhost:8080/"
        },
        "id": "03zCrdn9nqvq",
        "outputId": "5ac5571e-ebff-423d-aa53-da24c9421476"
      },
      "execution_count": null,
      "outputs": [
        {
          "output_type": "execute_result",
          "data": {
            "text/plain": [
              "{'genero': 'femenino',\n",
              " 'nombre': 'alexandra',\n",
              " 'edad': 28,\n",
              " 'descripcion': 'estudiante de ingenieria, aprendiendo python'}"
            ]
          },
          "metadata": {},
          "execution_count": 120
        }
      ]
    },
    {
      "cell_type": "code",
      "source": [
        "#programa que pida el nombre y cada letra la convierta en mayusculas\n",
        "nombre=input(\"Ingrese su nombre\")\n",
        "nombre.upper()\n",
        "nombre.title()\n"
      ],
      "metadata": {
        "colab": {
          "base_uri": "https://localhost:8080/",
          "height": 53
        },
        "id": "IsmIFN8LovUb",
        "outputId": "4213fa46-9b08-45aa-a441-113bcde5af85"
      },
      "execution_count": null,
      "outputs": [
        {
          "name": "stdout",
          "output_type": "stream",
          "text": [
            "Ingrese su nombrengnf\n"
          ]
        },
        {
          "output_type": "execute_result",
          "data": {
            "text/plain": [
              "'Ngnf'"
            ],
            "application/vnd.google.colaboratory.intrinsic+json": {
              "type": "string"
            }
          },
          "metadata": {},
          "execution_count": 121
        }
      ]
    },
    {
      "cell_type": "markdown",
      "source": [
        "# **CICLOS Y BUCLES**\n",
        "\n",
        "son estructuras de codigo que me permiten iterar sobre una estructura o un rango, existen dos tipos de ciclos más usados los for que significan para y los while que significan mientas que"
      ],
      "metadata": {
        "id": "Z0modDjEt-QZ"
      }
    },
    {
      "cell_type": "code",
      "source": [
        "#de esta manera es la estructura de los ciclos for\n",
        "#for <variable> int <lista o rango>:\n",
        "#  <Ejecutable>\n",
        "Paises\n"
      ],
      "metadata": {
        "colab": {
          "base_uri": "https://localhost:8080/"
        },
        "id": "U4tIfumAuVS3",
        "outputId": "76e22e20-412d-4b57-a1c1-956103c617ea"
      },
      "execution_count": null,
      "outputs": [
        {
          "output_type": "execute_result",
          "data": {
            "text/plain": [
              "['Venezuela', 'Perú', 'Paraguay', 'Mexico', 'Colombia', 'Brasil']"
            ]
          },
          "metadata": {},
          "execution_count": 122
        }
      ]
    },
    {
      "cell_type": "code",
      "source": [
        "for i in Paises:\n",
        "  print(i)"
      ],
      "metadata": {
        "colab": {
          "base_uri": "https://localhost:8080/"
        },
        "id": "S8m6NERiwVHt",
        "outputId": "b3d1b998-8051-466a-e6fa-79d077ffc965"
      },
      "execution_count": null,
      "outputs": [
        {
          "output_type": "stream",
          "name": "stdout",
          "text": [
            "Venezuela\n",
            "Perú\n",
            "Paraguay\n",
            "Mexico\n",
            "Colombia\n",
            "Brasil\n"
          ]
        }
      ]
    },
    {
      "cell_type": "code",
      "source": [
        "for i in Paises:\n",
        "  if i == \"Perú\":\n",
        "    print(i)\n",
        "    print(\"este pais está inflitrado\")"
      ],
      "metadata": {
        "colab": {
          "base_uri": "https://localhost:8080/"
        },
        "id": "pzrt7GWGwdZB",
        "outputId": "68fb031c-adc6-4d4f-d3b8-8c4f37bb9c74"
      },
      "execution_count": null,
      "outputs": [
        {
          "output_type": "stream",
          "name": "stdout",
          "text": [
            "Perú\n",
            "este pais está inflitrado\n"
          ]
        }
      ]
    },
    {
      "cell_type": "code",
      "source": [
        "for numero, i in enumerate(Paises):\n",
        "  print(numero)\n",
        "  print(i)"
      ],
      "metadata": {
        "colab": {
          "base_uri": "https://localhost:8080/"
        },
        "id": "OKzxGNacw9Ol",
        "outputId": "7a91aff7-6cb1-4e32-96cf-9a5002ac3187"
      },
      "execution_count": null,
      "outputs": [
        {
          "output_type": "stream",
          "name": "stdout",
          "text": [
            "0\n",
            "Venezuela\n",
            "1\n",
            "Perú\n",
            "2\n",
            "Paraguay\n",
            "3\n",
            "Mexico\n",
            "4\n",
            "Colombia\n",
            "5\n",
            "Brasil\n"
          ]
        }
      ]
    },
    {
      "cell_type": "markdown",
      "source": [
        "# **Funciones**"
      ],
      "metadata": {
        "id": "FRTXABKHyHsW"
      }
    },
    {
      "cell_type": "code",
      "source": [
        "#len me da la londitud de un arreglo\n",
        "len(Paises)\n"
      ],
      "metadata": {
        "colab": {
          "base_uri": "https://localhost:8080/"
        },
        "id": "wHcO8VY93F0j",
        "outputId": "8fa29105-841e-40df-b9c1-0b91ee516a6d"
      },
      "execution_count": null,
      "outputs": [
        {
          "output_type": "execute_result",
          "data": {
            "text/plain": [
              "6"
            ]
          },
          "metadata": {},
          "execution_count": 127
        }
      ]
    },
    {
      "cell_type": "code",
      "source": [
        "# Función max para mostrar el numero más grande de una arreglo\n",
        "max([1,2,3,4,5,6,7,8])"
      ],
      "metadata": {
        "colab": {
          "base_uri": "https://localhost:8080/"
        },
        "id": "hOkVwidh3SRv",
        "outputId": "dde877a5-cb41-4bcc-bbe3-f139b38bf742"
      },
      "execution_count": null,
      "outputs": [
        {
          "output_type": "execute_result",
          "data": {
            "text/plain": [
              "8"
            ]
          },
          "metadata": {},
          "execution_count": 128
        }
      ]
    },
    {
      "cell_type": "code",
      "source": [
        "#min Función que devuelve el menor valor de un arreglo\n",
        "min([1,2,3,4,5,6,7,8])"
      ],
      "metadata": {
        "colab": {
          "base_uri": "https://localhost:8080/"
        },
        "id": "J9og5lAE3wl-",
        "outputId": "74b9c4f9-5bee-477d-fe98-c78ed6b2d2ff"
      },
      "execution_count": null,
      "outputs": [
        {
          "output_type": "execute_result",
          "data": {
            "text/plain": [
              "1"
            ]
          },
          "metadata": {},
          "execution_count": 129
        }
      ]
    },
    {
      "cell_type": "code",
      "source": [
        "#type me sirve para saber el tipo de dato de una variable\n",
        "type(Paises)\n"
      ],
      "metadata": {
        "colab": {
          "base_uri": "https://localhost:8080/"
        },
        "id": "Bk4janim36MC",
        "outputId": "069c83e9-7beb-4757-bd9c-c9775050bf89"
      },
      "execution_count": null,
      "outputs": [
        {
          "output_type": "execute_result",
          "data": {
            "text/plain": [
              "list"
            ]
          },
          "metadata": {},
          "execution_count": 130
        }
      ]
    },
    {
      "cell_type": "code",
      "source": [
        "#Función para redondear decimales\n",
        "round(3.141624,2)"
      ],
      "metadata": {
        "colab": {
          "base_uri": "https://localhost:8080/"
        },
        "id": "bZv5KtGK4CDy",
        "outputId": "cce1dbd7-3884-44fe-a6da-66476ad462af"
      },
      "execution_count": null,
      "outputs": [
        {
          "output_type": "execute_result",
          "data": {
            "text/plain": [
              "3.14"
            ]
          },
          "metadata": {},
          "execution_count": 131
        }
      ]
    },
    {
      "cell_type": "code",
      "source": [
        "#range sirve para crear una secuencia de numeros tiene  3 argumentos inicio, final el paso\n",
        "contando=range(0,200,5)\n"
      ],
      "metadata": {
        "id": "yPXJUGwB4M3w"
      },
      "execution_count": null,
      "outputs": []
    },
    {
      "cell_type": "code",
      "source": [
        "for i in contando:\n",
        "  print(i)"
      ],
      "metadata": {
        "colab": {
          "base_uri": "https://localhost:8080/"
        },
        "id": "rvICsrIC4fCA",
        "outputId": "7a408f78-9a9c-4320-fc1f-2ef452bf5f04"
      },
      "execution_count": null,
      "outputs": [
        {
          "output_type": "stream",
          "name": "stdout",
          "text": [
            "0\n",
            "5\n",
            "10\n",
            "15\n",
            "20\n",
            "25\n",
            "30\n",
            "35\n",
            "40\n",
            "45\n",
            "50\n",
            "55\n",
            "60\n",
            "65\n",
            "70\n",
            "75\n",
            "80\n",
            "85\n",
            "90\n",
            "95\n",
            "100\n",
            "105\n",
            "110\n",
            "115\n",
            "120\n",
            "125\n",
            "130\n",
            "135\n",
            "140\n",
            "145\n",
            "150\n",
            "155\n",
            "160\n",
            "165\n",
            "170\n",
            "175\n",
            "180\n",
            "185\n",
            "190\n",
            "195\n"
          ]
        }
      ]
    },
    {
      "cell_type": "code",
      "source": [
        "#las funciones propias son las que yo creo para reutilizar codigo la palabra reservada es def\n",
        "def suma(a,b):\n",
        "  resultado=a+b\n",
        "  return resultado"
      ],
      "metadata": {
        "id": "4d-0Gt1Y44GK"
      },
      "execution_count": null,
      "outputs": []
    },
    {
      "cell_type": "code",
      "source": [
        "suma(2,3)"
      ],
      "metadata": {
        "colab": {
          "base_uri": "https://localhost:8080/"
        },
        "id": "dL0GaEOg5ZYm",
        "outputId": "dbe9d810-018d-42de-b11d-b20cd1f43919"
      },
      "execution_count": null,
      "outputs": [
        {
          "output_type": "execute_result",
          "data": {
            "text/plain": [
              "5"
            ]
          },
          "metadata": {},
          "execution_count": 139
        }
      ]
    },
    {
      "cell_type": "markdown",
      "source": [],
      "metadata": {
        "id": "YCK0omun43Sd"
      }
    },
    {
      "cell_type": "code",
      "source": [
        "def pan(a, b):\n",
        "  resultado=a*b\n",
        "  return resultado"
      ],
      "metadata": {
        "id": "eQQaD0vi43En"
      },
      "execution_count": null,
      "outputs": []
    },
    {
      "cell_type": "code",
      "source": [
        "pan(4,500)"
      ],
      "metadata": {
        "colab": {
          "base_uri": "https://localhost:8080/"
        },
        "id": "phkCI7eL8SuS",
        "outputId": "8ae42c6a-eb69-4114-8609-62067bd357a0"
      },
      "execution_count": null,
      "outputs": [
        {
          "output_type": "execute_result",
          "data": {
            "text/plain": [
              "2000"
            ]
          },
          "metadata": {},
          "execution_count": 157
        }
      ]
    },
    {
      "cell_type": "code",
      "source": [
        "pan1=int(input(\"Cuanto pan quieres\"))\n",
        "precio=int(input(\"Cuanto vale el pan\"))\n",
        "pan(pan1,precio)\n",
        "\n"
      ],
      "metadata": {
        "colab": {
          "base_uri": "https://localhost:8080/"
        },
        "id": "rdkkq9u_5qu3",
        "outputId": "bb8332cd-64c0-4e54-e116-76a255155248"
      },
      "execution_count": null,
      "outputs": [
        {
          "name": "stdout",
          "output_type": "stream",
          "text": [
            "Cuanto pan quieres4\n",
            "Cuanto vale el pan500\n"
          ]
        },
        {
          "output_type": "execute_result",
          "data": {
            "text/plain": [
              "2000"
            ]
          },
          "metadata": {},
          "execution_count": 159
        }
      ]
    },
    {
      "cell_type": "code",
      "source": [],
      "metadata": {
        "id": "8AG8u-sb6HmE"
      },
      "execution_count": null,
      "outputs": []
    },
    {
      "cell_type": "code",
      "source": [
        "def division(a, b):\n",
        "  resultado_division=a/b\n",
        "  return resultado_division"
      ],
      "metadata": {
        "id": "Z0AR6tBA9O3y"
      },
      "execution_count": null,
      "outputs": []
    },
    {
      "cell_type": "code",
      "source": [
        "#crea un programa que calcule el total de una compra, el usuario debe agregar el precio de dos prodcutos y las cantidades que desee luego el programa deberá permitir al usuario sumar los precios de ambos productos. Multiplicar los precios de los productos por las cantidades para obtener el costo total resta un descuento del precio total si el usuario tiene un cupón. Dividir el total entre dos personas por si quieren dividir la cuenta\n",
        "def Multiplicar(a, b):\n",
        "  resultado_multiplicar=a*b\n",
        "  return resultado_multiplicar\n",
        "\n",
        "def dividir(a, b):\n",
        "  if b != 0:\n",
        "    return a/b\n",
        "  else:\n",
        "    return print(\"no se puede dividir entre 0\")\n",
        "\n",
        "  resultado_dividir=a/b\n",
        "  return resultado_dividir\n",
        "\n",
        "def restar(a, b):\n",
        "  resultado_restar=a-b\n",
        "  return resultado_restar\n",
        "\n",
        "def sumar(a, b):\n",
        "  resultado_sumar=a+b\n",
        "  return resultado_sumar\n",
        "\n"
      ],
      "metadata": {
        "id": "c58jCm1H9ZU2"
      },
      "execution_count": null,
      "outputs": []
    },
    {
      "cell_type": "code",
      "source": [
        "producto1=input(\"Ingrese el nombre del producto 1\")\n",
        "cantidad1=int(input(\"Ingrese la cantidad del producto 1\"))\n",
        "precio1=float(input(\"Ingrese el precio del producto 1\"))\n",
        "producto2=input(\"Ingrese el nombre del producto 2\")\n",
        "cantidad2=int(input(\"Ingrese la cantidad del producto 2\"))\n",
        "precio2=float(input(\"Ingrese el precio del producto 2\"))\n",
        "\n",
        "operacion=input(\"\"\"Bienvenido como estás cuentame que quieres hacer:\n",
        "1. Sumar los precios de ambos productos\n",
        "2. Calcular el costo total multiplicando el precio por cantidad\n",
        "3. aplicar un descuento al total\n",
        "4. Dividir el precio entre dos personas\n",
        "No olvides que solo puedes elegir 1,2,3,4\"\"\")\n",
        "\n",
        "if operacion==\"1\":\n",
        "\n",
        "  total_precios= sumar(precio1,precio2)\n",
        "  print(total_precios)\n",
        "\n"
      ],
      "metadata": {
        "colab": {
          "base_uri": "https://localhost:8080/"
        },
        "id": "7gMi8yy9-cgO",
        "outputId": "00adb092-11cb-4abf-d015-d5442c22c52f"
      },
      "execution_count": null,
      "outputs": [
        {
          "output_type": "stream",
          "name": "stdout",
          "text": [
            "Ingrese el nombre del producto 1gomitas\n",
            "Ingrese la cantidad del producto 11\n",
            "Ingrese el precio del producto 1100\n",
            "Ingrese el nombre del producto 2chocorramo\n",
            "Ingrese la cantidad del producto 21\n",
            "Ingrese el precio del producto 2100\n",
            "Bienvenido como estás cuentame que quieres hacer:\n",
            "1. Sumar los precios de ambos productos\n",
            "2. Calcular el costo total multiplicando el precio por cantidad\n",
            "3. aplicar un descuento al total\n",
            "4. Dividir el precio entre dos personas\n",
            "No olvides que solo puedes elegir 1,2,3,41\n",
            "200.0\n"
          ]
        }
      ]
    }
  ]
}